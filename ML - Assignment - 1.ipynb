{
 "cells": [
  {
   "cell_type": "code",
   "execution_count": 12,
   "id": "7247bd3f",
   "metadata": {},
   "outputs": [
    {
     "name": "stdout",
     "output_type": "stream",
     "text": [
      "Sorted list of ages: [19, 19, 20, 22, 24, 24, 24, 25, 25, 26]\n",
      "Minimum age: 19\n",
      "Maximum age : 26\n",
      "min age and max age are added to the list: [19, 19, 20, 22, 24, 24, 24, 25, 25, 26, 19, 26]\n",
      "Median age: 24.0\n",
      "Average age: 22.75\n",
      "Range : 7\n"
     ]
    }
   ],
   "source": [
    "import statistics  # Statistics module can used to calculate mathematical statistics of numeric data.\n",
    "ages = [19, 22, 19, 24, 20, 25, 26, 24, 25, 24]  \n",
    "\n",
    "ages.sort() # sort method sorts the values in ascending order by default \n",
    "\n",
    "print(\"Sorted list of ages:\",ages)  # Using print function to display sorted ages\n",
    "\n",
    "print(\"Minimum age:\",min(ages))  # Minimum age is printed using min() method\n",
    "\n",
    "print(\"Maximum age :\", max(ages)) # Maximum age is printed using max() method\n",
    "\n",
    "# minimum age and maximum age values are inserted to the list using append() method\n",
    "ages.append(min(ages))\n",
    "ages.append(max(ages))\n",
    "print(\"min age and max age are added to the list:\",ages)\n",
    "\n",
    "# statistics.median() method method calculates the median (middle value) of the given data set.\n",
    "median_ages=statistics.median(ages)\n",
    "print(\"Median age:\",median_ages)\n",
    "\n",
    "# Average is sum of all the items divided by their number\n",
    "average = sum(ages)/len(ages)\n",
    "print(\"Average age:\",average)\n",
    "\n",
    "# Range of the list is maximum value minus minimum value\n",
    "range=max(ages)-min(ages)\n",
    "print(\"Range :\",range)\n",
    "\n"
   ]
  },
  {
   "cell_type": "code",
   "execution_count": 2,
   "id": "e5ca665e",
   "metadata": {},
   "outputs": [
    {
     "name": "stdout",
     "output_type": "stream",
     "text": [
      "empty dictionary dog created: {}\n",
      "name, color, breed, legs, age are added to the dog dictionary: {'breed', 'name', 'color', 'age', 'legs'}\n",
      "student dictionary created and keys are added: {'country', 'skills', 'gender', 'last_name', 'address', 'marital status', 'city', 'age', 'first_name'}\n",
      "length of the student dictionary 9\n",
      "First name data type: <class 'str'>\n",
      "Skills data type : <class 'list'>\n",
      "skills before modifying ['mean stack development', 'java', 'machine learning']\n",
      "skills after modifying ['mean stack development', 'java', 'machine learning', 'java script', 'python']\n",
      "Student keys dict_keys(['first_name', 'last_name', 'gender', 'age', 'marital status', 'skills', 'country', 'city', 'address'])\n",
      "Student Values dict_values(['Shruthi', 'Vallapreddy', 'female', '23', 'single', ['mean stack development', 'java', 'machine learning', 'java script', 'python'], 'united states', 'warrensburg', '411 jefferson street'])\n"
     ]
    }
   ],
   "source": [
    "#  An empty dictionary called dog is created\n",
    "dog={ }\n",
    "print(\"empty dictionary dog created:\",dog)\n",
    "#  name, color, breed, legs, age are added to the dog dictionary\n",
    "dog = {'name','color','breed','legs','age'}\n",
    "print(\"name, color, breed, legs, age are added to the dog dictionary:\",dog)\n",
    "#Create a student dictionary and add first_name, last_name, gender, age, marital status,\n",
    "#skills, country, city and address as keys for the dictionary\n",
    "student = {'first_name','last_name','gender','age','marital status','skills','country','city','address'}\n",
    "print(\"student dictionary created and keys are added:\",student)\n",
    "#Get the length of the student dictionary\n",
    "print(\"length of the student dictionary\",len(student))\n",
    "#Get the value of skills and check the data type, it should be a list\n",
    "student = {'first_name': 'Shruthi','last_name': 'Vallapreddy','gender': 'female','age': '23','marital status': 'single',\n",
    "           'skills':['mean stack development', 'java', 'machine learning'],\n",
    "           'country':'united states','city':'warrensburg','address':'411 jefferson street'}\n",
    "print(\"First name data type:\",type(student.get('first_name')) )  \n",
    "print(\"Skills data type :\",type(student.get('skills')) )\n",
    "#Modify the skills values by adding one or two skills\n",
    "print(\"skills before modifying\",student.get('skills'))\n",
    "student['skills'].append('java script')\n",
    "student['skills'].append('python')\n",
    "print(\"skills after modifying\",student.get('skills'))\n",
    "#Get the dictionary keys as a list\n",
    "print(\"Student keys\",student.keys())   \n",
    "#Get the dictionary values as a list\n",
    "print(\"Student Values\",student.values())"
   ]
  },
  {
   "cell_type": "code",
   "execution_count": 13,
   "id": "7cacd9eb",
   "metadata": {},
   "outputs": [
    {
     "name": "stdout",
     "output_type": "stream",
     "text": [
      "Brothers tuple: ('Mahi', 'Kiran', 'Sampath')\n",
      "Sisters tuple: ('Ekshitha', 'Pragna', 'Preethi')\n",
      "Siblings tuple: ('Mahi', 'Kiran', 'Sampath', 'Ekshitha', 'Pragna', 'Preethi')\n",
      "Number of siblings: 6\n",
      "family members: ('Ashok Reddy', 'Sowbhagya', 'Mahi', 'Kiran', 'Sampath', 'Ekshitha', 'Pragna', 'Preethi')\n"
     ]
    }
   ],
   "source": [
    "#Create a tuple containing names of your sisters and your brothers (imaginary siblings are fine)\n",
    "brothers = ('Mahi', 'Kiran', 'Sampath')\n",
    "sisters = ('Ekshitha', 'Pragna', 'Preethi')\n",
    "print(\"Brothers tuple:\",brothers)\n",
    "print(\"Sisters tuple:\",sisters)\n",
    "\n",
    "#Join brothers and sisters tuples and assign it to siblings\n",
    "siblings = brothers + sisters\n",
    "print(\"Siblings tuple:\",siblings)\n",
    "\n",
    "#How many siblings do you have?\n",
    "print(\"Number of siblings:\",len(siblings))\n",
    "\n",
    "#Modify the siblings tuple and add the name of your father and mother and assign it to family_member\n",
    "family_members = (\"Ashok Reddy\",\"Sowbhagya\")+siblings\n",
    "print(\"family members:\",family_members)\n"
   ]
  },
  {
   "cell_type": "code",
   "execution_count": 4,
   "id": "8fafb518",
   "metadata": {},
   "outputs": [
    {
     "name": "stdout",
     "output_type": "stream",
     "text": [
      "length of the set it_companies: 7\n",
      "twitter is added : ['Facebook', 'Google', ' Microsoft', 'Apple', 'IBM', 'Oracle', 'Amazon', 'twitter']\n",
      "Multiple companies are added at once: ['Facebook', 'Google', ' Microsoft', 'Apple', 'IBM', 'Oracle', 'Amazon', 'twitter', 'cognizent', 'paytm']\n",
      "One company is removed ['Facebook', 'Google', ' Microsoft', 'Apple', 'Oracle', 'Amazon', 'twitter', 'cognizent', 'paytm']\n",
      "difference between remove and discrad : remove is a method where it shows an error when value does not exist but discard method does not show an error.\n",
      "Join of A and B: {19, 20, 22, 24, 25, 26, 27, 28}\n",
      "A intersection B {19, 20, 22, 24, 25, 26}\n",
      "Is a subset of B ? True\n",
      "Are A and B disjoint sets: False\n",
      "symmetric difference between A and B: {27, 28}\n",
      "A set after deleting: set()\n",
      "B set after deleting: set()\n",
      "{19, 22, 24, 25, 26}\n",
      "difference between length of age and age set 3\n"
     ]
    }
   ],
   "source": [
    "#given data set\n",
    "it_companies = [\"Facebook\", \"Google\",\" Microsoft\", \"Apple\", \"IBM\", \"Oracle\", \"Amazon\"]\n",
    "A = {19, 22, 24, 20, 25, 26}\n",
    "B = {19, 22, 20, 25, 26, 24, 28, 27}\n",
    "age = [22, 19, 24, 25, 26, 24, 25, 24]\n",
    "#Find the length of the set it_companies\n",
    "print(\"length of the set it_companies:\",len(it_companies))\n",
    "#Add 'Twitter' to it_companies\n",
    "it_companies.append('twitter')\n",
    "print(\"twitter is added :\",it_companies)\n",
    "#Insert multiple IT companies at once to the set it_companies\n",
    "it_companies.extend([\"cognizent\",\"paytm\"])\n",
    "print(\"Multiple companies are added at once:\",it_companies)\n",
    "#Remove one of the companies from the set it_companies\n",
    "it_companies.remove('IBM')\n",
    "print(\"One company is removed\",it_companies)\n",
    "#What is the difference between remove and discard\n",
    "print(\"difference between remove and discrad : remove is a method where it shows an error when value does not exist but discard method does not show an error.\")\n",
    "#Join A and B\n",
    "a_union_b=A.union(B)\n",
    "print(\"Join of A and B:\",a_union_b)\n",
    "#Find A intersection B\n",
    "a_intersection_b=A.intersection(B)\n",
    "print(\"A intersection B\",a_intersection_b)\n",
    "#Is A subset of B ?\n",
    "a_subset_b=A.issubset(B)\n",
    "print(\"Is a subset of B ?\",a_subset_b)\n",
    "#Are A and B disjoint sets\n",
    "a_disjoint_b = A.isdisjoint(B)\n",
    "print(\"Are A and B disjoint sets:\",a_disjoint_b)\n",
    "#What is the symmetric difference between A and B\n",
    "a_symmetric_difference_b = A.symmetric_difference(B)\n",
    "print(\"symmetric difference between A and B:\",a_symmetric_difference_b)\n",
    "#Delete the sets completely\n",
    "A.clear()\n",
    "B.clear()\n",
    "print (\"A set after deleting:\",A)\n",
    "print (\"B set after deleting:\",B)\n",
    "#Convert the ages to a set and compare the length of the list and the set.\n",
    "age_set=set(age)\n",
    "print(age_set)\n",
    "print (\"difference between length of age and age set\",len(age)-len(age_set))\n",
    "\n"
   ]
  },
  {
   "cell_type": "code",
   "execution_count": 14,
   "id": "e8948ad7",
   "metadata": {},
   "outputs": [
    {
     "name": "stdout",
     "output_type": "stream",
     "text": [
      "area of the circle with radius 30: 2826.0\n",
      "circumference of the circle with radius 30: 188.4\n",
      "Enter the radius of circle: 3\n",
      "area of circle with radius 3.0 = 28.259999999999998\n"
     ]
    }
   ],
   "source": [
    "PI=3.14\n",
    "\n",
    "#The radius of a circle is 30 meters.\n",
    "r=30\n",
    "\n",
    "#Calculate the area of a circle and assign the value to a variable name of _area_of_circle_\n",
    "_area_of_circle_ =PI*r*r\n",
    "print(\"area of the circle with radius 30:\",_area_of_circle_)\n",
    "\n",
    "#Calculate the circumference of a circle and assign the value to a variable name of  _circum_of_circle_\n",
    "_circum_of_circle_=2*PI*r\n",
    "print(\"circumference of the circle with radius 30:\",_circum_of_circle_)\n",
    "\n",
    "#Take radius as user input and calculate the area\n",
    "radius = float(input(\"Enter the radius of circle: \"))\n",
    "area=PI*radius*radius\n",
    "print(f'area of circle with radius {radius} =',area)"
   ]
  },
  {
   "cell_type": "code",
   "execution_count": 10,
   "id": "3a400388",
   "metadata": {},
   "outputs": [
    {
     "name": "stdout",
     "output_type": "stream",
     "text": [
      "unique words are: {'people', 'and', 'inspire', 'love', 'am', 'a', 'I', 'teach', 'to', 'teacher'}\n",
      "No of unique words in the sentence  10\n"
     ]
    }
   ],
   "source": [
    "# Unique\n",
    "line = \"I am a teacher and I love to inspire and teach people\"\n",
    "\n",
    "# Use split method to separate the words and set to get the unique values\n",
    "\n",
    "unique=set(line.split(\" \"))\n",
    "\n",
    "print(\"unique words are:\",unique)\n",
    "\n",
    "print (\"No of unique words in the sentence \",len(unique))\n",
    "\n"
   ]
  },
  {
   "cell_type": "code",
   "execution_count": 11,
   "id": "e1022646",
   "metadata": {},
   "outputs": [
    {
     "name": "stdout",
     "output_type": "stream",
     "text": [
      "Name\tAge\tCountry\tCity\n",
      "Shruthi\t23\tIndia\tHyderabad\n"
     ]
    }
   ],
   "source": [
    "#Use a tab escape sequence to get the following lines.\n",
    "\n",
    "\n",
    "\n",
    "print(\"Name\\tAge\\tCountry\\tCity\\nShruthi\\t23\\tIndia\\tHyderabad\")\n"
   ]
  },
  {
   "cell_type": "code",
   "execution_count": 12,
   "id": "592d3d02",
   "metadata": {},
   "outputs": [
    {
     "name": "stdout",
     "output_type": "stream",
     "text": [
      "The area of a circle with radius 10 is 314.0 meters square.\n"
     ]
    }
   ],
   "source": [
    "#Use the string formatting method to display the following:\n",
    "\n",
    "# radius = 10\n",
    "\n",
    "# area = 3.14 * radius ** 2 \n",
    "\n",
    "#“The area of a circle with radius 10 is 314 meters square.”\n",
    "\n",
    "radius=10\n",
    "area=3.14*radius**2\n",
    "print(\"The area of a circle with radius %s is %s meters square.\" %(radius,area))\n"
   ]
  },
  {
   "cell_type": "code",
   "execution_count": 2,
   "id": "efb7952c",
   "metadata": {},
   "outputs": [
    {
     "name": "stdout",
     "output_type": "stream",
     "text": [
      "Enter no of students:3\n",
      "enter weight :030\n",
      "convertion of weight in lbs  [30]\n",
      "convertion of weight in kgs  [13.62]\n",
      "enter weight :130\n",
      "convertion of weight in lbs  [30, 30]\n",
      "convertion of weight in kgs  [13.62, 13.62]\n",
      "enter weight :250\n",
      "convertion of weight in lbs  [30, 30, 50]\n",
      "convertion of weight in kgs  [13.62, 13.62, 22.7]\n"
     ]
    }
   ],
   "source": [
    "# Write a program, which reads weights (lbs.) of N students into a list and convert these weights to \n",
    "# kilograms in a separate list using Loop. N: No of students (Read input from user)\n",
    "students = int(input(\"Enter no of students:\"))\n",
    "#creating empty list\n",
    "weight_lbs = []\n",
    "weight_kgs = []\n",
    "for x in range(students):\n",
    "    # get the input of data and adding to the list\n",
    "    weight_lbs.append(int(input(\"enter weight :\"+str(x)+\"\"))) \n",
    "    #converting lbs to kgs\n",
    "    weight_kgs.append(round(weight_lbs[x]*0.45392,2))\n",
    "    print(\"convertion of weight in lbs \",weight_lbs)\n",
    "    print(\"convertion of weight in kgs \",weight_kgs)"
   ]
  },
  {
   "cell_type": "code",
   "execution_count": null,
   "id": "58f19344",
   "metadata": {},
   "outputs": [],
   "source": []
  },
  {
   "cell_type": "code",
   "execution_count": null,
   "id": "fd94cd8d",
   "metadata": {},
   "outputs": [],
   "source": []
  },
  {
   "cell_type": "code",
   "execution_count": null,
   "id": "e6f5a601",
   "metadata": {},
   "outputs": [],
   "source": []
  }
 ],
 "metadata": {
  "kernelspec": {
   "display_name": "Python 3 (ipykernel)",
   "language": "python",
   "name": "python3"
  },
  "language_info": {
   "codemirror_mode": {
    "name": "ipython",
    "version": 3
   },
   "file_extension": ".py",
   "mimetype": "text/x-python",
   "name": "python",
   "nbconvert_exporter": "python",
   "pygments_lexer": "ipython3",
   "version": "3.11.1"
  }
 },
 "nbformat": 4,
 "nbformat_minor": 5
}
